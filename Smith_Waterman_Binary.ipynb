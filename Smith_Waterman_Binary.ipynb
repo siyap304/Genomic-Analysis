{
 "cells": [
  {
   "cell_type": "markdown",
   "metadata": {},
   "source": [
    "## Smith Waterman Algorithm"
   ]
  },
  {
   "cell_type": "code",
   "execution_count": 3,
   "metadata": {},
   "outputs": [
    {
     "name": "stdout",
     "output_type": "stream",
     "text": [
      "[[0. 0. 0. 0.]\n",
      " [0. 2. 2. 2.]\n",
      " [0. 2. 4. 4.]\n",
      " [0. 2. 4. 5.]\n",
      " [0. 2. 4. 6.]] \n",
      "\n",
      "Algined Sequences:\n",
      "4 3\n",
      "ATGC\n",
      "AT-C\n",
      "ATGC\n",
      "AT-C\n"
     ]
    }
   ],
   "source": [
    "import numpy as np\n",
    "\n",
    "sequence_1 = \"ATGC\"\n",
    "sequence_2 = \"ATC\"\n",
    "\n",
    "main_matrix = np.zeros((len(sequence_1)+1,len(sequence_2)+1))\n",
    "match_checker_matrix = np.zeros((len(sequence_1),len(sequence_2)))\n",
    "\n",
    "match_reward = 2\n",
    "mismatch_penalty = 1\n",
    "gap_penalty = 0\n",
    "\n",
    "for i in range(len(sequence_1)):\n",
    "    for j in range(len(sequence_2)):\n",
    "        if sequence_1[i] == sequence_2[j]:\n",
    "            match_checker_matrix[i][j]= match_reward\n",
    "        else:\n",
    "            match_checker_matrix[i][j]= mismatch_penalty\n",
    "\n",
    "#print(match_checker_matrix)\n",
    "\n",
    "#STEP 2 : MATRIX FILLING\n",
    "for i in range(1,len(sequence_1)+1):\n",
    "    for j in range(1,len(sequence_2)+1):\n",
    "\n",
    "        main_matrix[i][j] = max(max(main_matrix[i][j-1]+ gap_penalty, 0), max(main_matrix[i-1][j]+gap_penalty, 0), max(main_matrix[i-1][j-1]+match_checker_matrix[i-1][j-1], 0))\n",
    "\n",
    "print(main_matrix, '\\n')\n",
    "\n",
    "# STEP 3 : TRACEBACK\n",
    "\n",
    "def traceback(s1, s2, x, y):\n",
    "\n",
    "    aligned_1 = ''\n",
    "    aligned_2 = ''\n",
    "\n",
    "    while (x > 0 and y > 0 and main_matrix[x][y] != 0):\n",
    "\n",
    "        if (x >0 and y > 0 and main_matrix[x][y] == main_matrix[x-1][y-1]+ match_checker_matrix[x-1][y-1]):\n",
    "\n",
    "            aligned_1 = sequence_1[x-1] + aligned_1\n",
    "            aligned_2 = sequence_2[y-1] + aligned_2\n",
    "\n",
    "            x = x - 1\n",
    "            y = y - 1\n",
    "\n",
    "        elif(x > 0 and main_matrix[x][y] == main_matrix[x-1][y] + gap_penalty):\n",
    "            aligned_1 = sequence_1[x-1] + aligned_1\n",
    "            aligned_2 = \"-\" + aligned_2\n",
    "\n",
    "            x = x -1\n",
    "        else:\n",
    "            aligned_1 = \"-\" + aligned_1\n",
    "            aligned_2 = sequence_2[y-1] + aligned_2\n",
    "\n",
    "            y = y - 1\n",
    "\n",
    "    return aligned_1, aligned_2\n",
    "\n",
    "\n",
    "max_value = np.max(main_matrix)\n",
    "max_positions = np.argwhere(main_matrix == max_value)\n",
    "#print(max_positions)\n",
    "\n",
    "for max_position in max_positions:\n",
    "    x, y = max_position\n",
    "    aligned_1, aligned_2 = traceback(sequence_1, sequence_2, x,y)\n",
    "    print(f'Algined Sequences:')\n",
    "    print(x,y)\n",
    "    print(aligned_1)\n",
    "    print(aligned_2)\n",
    "\n",
    "print(aligned_1)\n",
    "print(aligned_2)\n"
   ]
  },
  {
   "cell_type": "markdown",
   "metadata": {},
   "source": [
    "# Smith Waterman in Binary (Matrix Filling)"
   ]
  },
  {
   "cell_type": "code",
   "execution_count": 2,
   "metadata": {},
   "outputs": [
    {
     "name": "stdout",
     "output_type": "stream",
     "text": [
      "[[0 0 0 0]\n",
      " [0 2 2 2]\n",
      " [0 2 4 4]\n",
      " [0 2 4 5]\n",
      " [0 2 4 6]]\n"
     ]
    }
   ],
   "source": [
    "# A = 00, T = 01, G = 10, C = 11\n",
    "import numpy as np\n",
    "\n",
    "sequence1 = \"00011011\"  #ATGC\n",
    "sequence2 = \"000111\"  #ATC\n",
    "\n",
    "rows = (len(sequence1) // 2) + 1\n",
    "cols = (len(sequence2) // 2) + 1\n",
    "main = np.zeros((rows, cols), dtype=int)\n",
    "\n",
    "match_reward = 2\n",
    "mismatch_penalty = 1\n",
    "gap_penalty = 0\n",
    "\n",
    "for i in range(1,rows):\n",
    "    for j in range(1,cols):\n",
    "        value_from_left = max(main[i, j-1] + gap_penalty, 0)\n",
    "        value_from_right = max(main[i-1, j] + gap_penalty, 0)\n",
    "        if sequence1[2*i - 1] == sequence2[2*j - 1] and sequence1[2*i - 2] == sequence2[2*j - 2]:\n",
    "            check = match_reward\n",
    "        else:\n",
    "            check = mismatch_penalty\n",
    "        value_from_diag = max(main[i-1, j-1] + check, 0)\n",
    "\n",
    "        main[i,j] = max(value_from_diag, value_from_left, value_from_right)\n",
    "\n",
    "print(main)\n"
   ]
  },
  {
   "cell_type": "code",
   "execution_count": null,
   "metadata": {},
   "outputs": [],
   "source": []
  }
 ],
 "metadata": {
  "kernelspec": {
   "display_name": "Python 3",
   "language": "python",
   "name": "python3"
  },
  "language_info": {
   "codemirror_mode": {
    "name": "ipython",
    "version": 3
   },
   "file_extension": ".py",
   "mimetype": "text/x-python",
   "name": "python",
   "nbconvert_exporter": "python",
   "pygments_lexer": "ipython3",
   "version": "3.11.0"
  }
 },
 "nbformat": 4,
 "nbformat_minor": 2
}
