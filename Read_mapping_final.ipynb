{
 "cells": [
  {
   "cell_type": "markdown",
   "metadata": {},
   "source": [
    "## Indexing"
   ]
  },
  {
   "cell_type": "code",
   "execution_count": 2,
   "metadata": {},
   "outputs": [
    {
     "name": "stdout",
     "output_type": "stream",
     "text": [
      "GCGG\n",
      "CTAG\n",
      "GGGC\n"
     ]
    },
    {
     "data": {
      "text/plain": [
       "[[('10111010', 48), ('10111010', 128)],\n",
       " [('11010010', 1100),\n",
       "  ('11010010', 1916),\n",
       "  ('11010010', 2480),\n",
       "  ('11010010', 3328),\n",
       "  ('11010010', 3376),\n",
       "  ('11010010', 3408)],\n",
       " [('10101011', 56)]]"
      ]
     },
     "execution_count": 2,
     "metadata": {},
     "output_type": "execute_result"
    }
   ],
   "source": [
    "class HashNode:\n",
    "    def __init__(self, key_value_pair):\n",
    "        \"\"\"\n",
    "        Initializes a node for the hash table, containing the key-value pair\n",
    "\n",
    "        Args:\n",
    "            key_value_pair: A tuple representing the key-value pair to be stored\n",
    "        \"\"\"\n",
    "        self.key_value_pair = key_value_pair\n",
    "        self.next = None\n",
    "\n",
    "def binary_to_decimal(binary):\n",
    "    \"\"\"\n",
    "    Converts a binary string to its decimal equivalent\n",
    "\n",
    "    Args:\n",
    "        binary: A string representing a binary number\n",
    "\n",
    "    Returns:\n",
    "        The decimal representation of the binary number\n",
    "    \"\"\"\n",
    "    decimal = 0\n",
    "    power = len(binary) - 1\n",
    "    for digit in binary:\n",
    "        decimal += int(digit) * (2 ** power)\n",
    "        power -= 1\n",
    "    return decimal\n",
    "\n",
    "class HashTable:\n",
    "    def __init__(self, size):\n",
    "        \"\"\"\n",
    "        Initializes a hash table with a given size\n",
    "\n",
    "        Args:\n",
    "            size: The size of the hash table\n",
    "        \"\"\"\n",
    "        self.size = size\n",
    "        self.table = [None] * size\n",
    "\n",
    "    def hash(self, key):\n",
    "        \"\"\"\n",
    "        Computes the hash value for a given key (which is essentially the binary representation of the k-mer)\n",
    "\n",
    "        Args:\n",
    "            key: The key to be hashed\n",
    "\n",
    "        Returns:\n",
    "            The hash value\n",
    "        \"\"\"\n",
    "        return binary_to_decimal(key)\n",
    "\n",
    "    def insert(self, key, value):\n",
    "        \"\"\"\n",
    "        Inserts the key and its associated value into the hash table\n",
    "\n",
    "        Args:\n",
    "            key: The key to be inserted\n",
    "            value: The associated value indicating the index of the start of the key\n",
    "        \"\"\"\n",
    "        index = self.hash(key)\n",
    "        if self.table[index] is None:\n",
    "            self.table[index] = HashNode((key, value))\n",
    "        else:\n",
    "            node = self.table[index]\n",
    "            while node.next is not None:\n",
    "                node = node.next\n",
    "            node.next = HashNode((key, value))\n",
    "\n",
    "    def search(self, key):\n",
    "        \"\"\"\n",
    "        Searches for a key in the hash table and returns all possible key-value pairs if found\n",
    "\n",
    "        Args:\n",
    "            key: The key to be searched\n",
    "\n",
    "        Returns:\n",
    "            A list of key-value pairs (key, value) if the key is found, otherwise an empty list\n",
    "        \"\"\"\n",
    "        index = self.hash(key)\n",
    "        node = self.table[index]\n",
    "        results = []\n",
    "        while node is not None:\n",
    "            if node.key_value_pair[0] == key:\n",
    "                results.append(node.key_value_pair)\n",
    "            node = node.next\n",
    "        return results\n",
    "\n",
    "\n",
    "    def print_table(self):\n",
    "        # Prints the contents of the hash table\n",
    "        for index, node in enumerate(self.table):\n",
    "            print(f'Index {index}: ', end='')\n",
    "            while node is not None:\n",
    "                print(f'({node.key_value_pair[0]}, {node.key_value_pair[1]}) -> ', end='')\n",
    "                node = node.next\n",
    "            print(\"None\")\n",
    "\n",
    "# Making a hash table of the required size\n",
    "hash_table = HashTable(256)\n",
    "\n",
    "def genome_to_binary(seq):\n",
    "    \"\"\"\n",
    "    Converts the k-mer into a binary number following A=00, T=01, G=10, C=11\n",
    "\n",
    "    Args:\n",
    "      seq: the k-mer in a string form\n",
    "\n",
    "    Returns:\n",
    "      The binary version of the k-mer in a string form\n",
    "\n",
    "    \"\"\"\n",
    "    binary=\"\"\n",
    "    for i in seq:\n",
    "      if i == \"A\":\n",
    "        binary = binary + \"00\"\n",
    "      elif i == \"T\":\n",
    "        binary = binary + \"01\"\n",
    "      elif i == \"G\":\n",
    "        binary = binary + \"10\"\n",
    "      elif i == \"C\":\n",
    "        binary = binary + \"11\"\n",
    "\n",
    "    return binary\n",
    "\n",
    "sequence = \"GCATCTCCTCCTCCCTCTCCCCGGGCTCCTACTGGCCTGAGGTTGAGGGCGGCTGGGGGCTCGGGGCAGGCTCCGCGGCGTTCCCCTCCCCACCCCGGCCCTCCGTTCAGCCGCGCTCCTCCGGGGCTGCGGTTCCTACTGCGCGAGCTGCCAGTGGATTCGCTCTTTTCCTCCGTCCGTGGCCCGCCTGGGCGGCCTTGTTCTTTCCGCAGCAGCCAGATAACCTTCTGTTCGGTGATGAAATTATCACTAATGGTTTTCATTCCTGTGAAAGTGATGAGGAGGATAGAGCCTCACATGCAAGCTCTAGTGACTGGACTCCAAGGCCACGGATAGGTCCATATACTTTTGTTCAGCAACATCTTATGATTGGCACAGATCCTCGAACAATTCTTAAAGATTTATTGCCGGAAACAATACCTCCACCTGAGTTGGATGATATGACACTGTGGCAGATTGTTATTAATATCCTTTCAGAACCACCAAAAAGGAAAAAAAGAAAAGATATTAATACAATTGAAGATGCTGTGAAATTACTGCAAGAGTGCAAAAAAATTATAGTTCTAACTGGAGCTGGGGTGTCTGTTTCATGTGGAATACCTGACTTCAGGTCAAGGGATGGTATTTATGCTCGCCTTGCTGTAGACTTCCCAGATCTTCCAGATCCTCAAGCGATGTTTGATATTGAATATTTCAGAAAAGATCCAAGACCATTCTTCAAGTTTGCAAAGAAGAAACAGCATTGAAGCATTATTTGGGGGGAAAAACACACACACAAAATCCAGCAACTCAGCATTCATGAGCAACTCTATACTATACCAGTATGTGCCTGTGCAGTGGAAGGAAAACAATTTTGGAAATATATCCTGGACAATTCCAGCCATCTCTCTGTCACAAATTCATAGCCTTGTCAGATAAGGAAGGAAAACTACTTCGCAACTATACCCAGAACATAGACACGCTGGAACAGGTTGCGGGAATCCAAAGGATAATTCAGTGTCATGGTTCCTTTGCAACAGCATCTTGCCTGATTTGTAAATACAAAGTTGACTGTGAAGCTGTACGAGGAGATATTTTTAATCAGGTAGTTCCTCGATGTCCTAGGTGCCCAGCTGATGAACCGCTTGCTATCATGAAACCAGAGATTGTGTTTTTTGGTGAAAATTTACCAGAACAGTTTCATAGAGCCATGAAGTATGACAAAGATGAAGTTGACCTCCTCATTGTTATTGGGTCTTCCCTCAAAGTAAGACCAGTAGCACTAATTCCAAGTTCCATACCCCATGAAGTGCCTCAGATATTAATTAATAGAGAACCTTTGCCTCATCTGCATTTTGATGTAGAGCTTCTTGGAGACTGTGATGTCATAATTAATGAATTGTGTCATAGGTTAGGTGGTGAATATGCCAAACTTTGCTGTAACCCTGTAAAGCTTTCAGAAATTACTGAAAAACCTCCACGAACACAAAAAGAATTGGCTTATTTGTCAGAGTTGCCACCCACACCTCTTCATGTTTCAGAAGACTCAAGTTCACCAGAAAGAACTTCACCACCAGATTCTTCAGTGATTGTCACACTTTTAGACCAAGCAGCTAAGAGTAATGATGATTTAGATGTGTCTGAATCAAAAGGTTGTATGGAAGAAAAACCACAGGAAGTACAAACTTCTAGGAATGTTGAAAGTATTGCTGAACAGATGGAAAATCCGGATTTGAAGAATGTTGGTTCTAGTACTGGGGAGAAAAATGAAAGAACTTCAGTGGCTGGAACAGTGAGAAAATGCTGGCCTAATAGAGTGGCAAAGGAGCAGATTAGTAGGCGGCTTGATGGTAATCAGTATCTGTTTTTGCCACCAAATCGTTACATTTTCCATGGCGCTGAGGTATATTCAGACTCTGAAGATGACGTCTTATCCTCTAGTTCTTGTGGCAGTAACAGTGATAGTGGGACATGCCAGAGTCCAAGTTTAGAAGAACCCATGGAGGATGAAAGTGAAATTGAAGAATTCTACAATGGCTTAGAAGATGAGCCTGATGTTCCAGAGAGAGCTGGAGGAGCTGGATTTGGGACTGATGGAGATGATCAAGAGGCAATTAATGAAGCTATATCTGTGAAACAGGAAGTAACAGACATGAACTATCCATCAAACAAATCATAGTGTAATAATTGTGCAGGTACAGGAATTGTTCCACCAGCATTAGGAACTTTAGCATGTCAAAATGAATGTTTACTTGTGAACTCGATAGAGCAAGGAAACCAGAAAGGTGTAATATTTATAGGTTGGTAAAATAGATTGTTTTTCATGGATAATTTTTAACTTCATTATTTCTGTACTTGTACAAACTCAACACTAACTTTTTTTTTTAAAAAAAAAAAGGTACTAAGTATCTTCAATCAGCTGTTGGTCAAGACTAACTTTCTTTTAAAGGTTCATTTGTATGATAAATTCATATGTGTATATATAATTTTTTTTGTTTTGTCTAGTGAGTTTCAACATTTTTAAAGTTTTCAAAAAGCCATCGGAATGTTAAATTAATGTAAAGGGAACAGCTAATCTAGACCAAAGAATGGTATTTTCACTTTTCTTTGTAACATTGAATGGTTTGAAGTACTCAAAATCTGTTACGCTAAACTTTTGATTCTTTAACACAATTATTTTTAAACACTGGCATTTTCCAAAACTGTGGCAGCTAACTTTTTAAAATCTCAAATGACATGCAGTGTGAGTAGAAGGAAGTCAACAATATGTGGGGAGAGCACTCGGTTGTCTTTACTTTTAAAAGTAATACTTGGTGCTAAGAATTTCAGGATTATTGTATTTACGTTCAAATGAAGATGGCTTTTGTACTTCCTGTGGACATGTAGCAATGTCTATATTGGCTCATAAAACTAACCTGAAAAACAAATAAATGCTTTGGAAATGTTTCAGTTGCTTTAGAAACATTAGTGCCTGCCTGGATCCCCTTAGTTTTGAAATATTTGCCATTGTTGTTTAAATACCTATCACTGTGGTAGAGCTTGCATTGATCTTTTCCACAAGTATTAAACTGCCAAAATGTGAATATGCAAAGCCTTTCTGAATCTATAATAATGGTACTTCTACTGGGGAGAGTGTAATATTTTGGACTGCTGTTTTCCATTAATGAGGAGAGCAACAGGCCCCTGATTATACAGTTCCAAAGTAATAAGATGTTAATTGTAATTCAGCCAGAAAGTACATGTCTCCCATTGGGAGGATTTGGTGTTAAATACCAAACTGCTAGCCCTAGTATTATGGAGATGAACATGATGATGTAACTTGTAATAGCAGAATAGTTAATGAATGAAACTAGTTCTTATAATTTATCTTTATTTAAAAGCTTAGCCTGCCTTAAAACTAGAGATCAACTTTCTCAGCTGCAAAAGCTTCTAGTCTTTCAAGAAGTTCATACTTTATGAAATTGCACAGTAAGCATTTATTTTTCAGACCATTTTTGAACATCACTCCTAAATTAATAAAGTATTCCTCTGTTGCTTTAGTATTTATTACAATAAAAAGGGTTTGAAATATAGCTGTTCTTTATGCATAAAACACCCAGCTAGGACCATTACTGCCAGAGAAAAAAATCGTATTGAATGGCCATTTCCCTACTTATAAGATGTCTCAATCTGAATTTATTTGGCTACACTAAAGAATGCAGTATATTTAGTTTTCCATTTGCATGATGTTTGTGTGCTATAGATGATATTTTAAATTGAAAAGTTTGTTTTAAATTATTTTTACAGTGAAGACTGTTTTCAGCTCTTTTTATATTGTACATAGTCTTTTATGTAATTTACTGGCATATGTTTTGTAGACTGTTTAATGACTGGATATCTTCCTTCAACTTTTGAAATACAAAACCAGTGTTTTTTACTTGTACACTGTTTTAAAGTCTATTAAAATTGTCATTTGACTTTTTTCTGTT\"\n",
    "seq = \"GCGGCTAGGGGC\"\n",
    "\n",
    "k = 0\n",
    "while k < len(sequence):\n",
    "    current = sequence[k:k+4]\n",
    "    k = k + 4\n",
    "    hash_table.insert(genome_to_binary(current), k-4)\n",
    "\n",
    "#hash_table.print_table()\n",
    "\n",
    "k = 0\n",
    "search=[]\n",
    "while k < len(seq):\n",
    "    current = seq[k:k+4]\n",
    "    k = k + 4\n",
    "    print(current)\n",
    "    # print(hash_table.search(genome_to_binary(current)))\n",
    "    search.append(hash_table.search(genome_to_binary(current)))\n",
    "\n",
    "search"
   ]
  },
  {
   "cell_type": "markdown",
   "metadata": {},
   "source": [
    "## Global Positioning"
   ]
  },
  {
   "cell_type": "code",
   "execution_count": 3,
   "metadata": {},
   "outputs": [
    {
     "name": "stdout",
     "output_type": "stream",
     "text": [
      "Indices 48 and 56 are close to each other.\n"
     ]
    },
    {
     "data": {
      "text/plain": [
       "[48]"
      ]
     },
     "execution_count": 3,
     "metadata": {},
     "output_type": "execute_result"
    }
   ],
   "source": [
    "# Iterate through each sublist in search\n",
    "final_indices=[]\n",
    "for i in range(len(search)):\n",
    "    # Iterate through each key-value pair in the current sublist\n",
    "    for key_value_pair_1 in search[i]:\n",
    "        # Extract the index from the current key-value pair\n",
    "        index_1 = key_value_pair_1[1]\n",
    "        #print(\"i1\", index_1)\n",
    "        \n",
    "        # Iterate through each sublist after the current sublist\n",
    "        for j in range(i + 1, len(search)):\n",
    "            # Iterate through each key-value pair in the next sublist\n",
    "            for key_value_pair_2 in search[j]:\n",
    "                # Extract the index from the next key-value pair\n",
    "                index_2 = key_value_pair_2[1]\n",
    "                #print(\"i2\", index_2)\n",
    "                \n",
    "                # Check if the absolute difference between the indices is less than 10\n",
    "                if abs(index_1 - index_2) < 10:\n",
    "                    print(f\"Indices {index_1} and {index_2} are close to each other.\")\n",
    "                    final_indices.append(index_1)\n",
    "\n",
    "final_indices\n"
   ]
  },
  {
   "cell_type": "markdown",
   "metadata": {},
   "source": [
    "#### Slicing the reference genome according to global positions"
   ]
  },
  {
   "cell_type": "code",
   "execution_count": 9,
   "metadata": {},
   "outputs": [
    {
     "data": {
      "text/plain": [
       "['CTGAGGTTGAGGGCGGCTGGGGGC']"
      ]
     },
     "execution_count": 9,
     "metadata": {},
     "output_type": "execute_result"
    }
   ],
   "source": [
    "ref_genome = []\n",
    "for i in final_indices:\n",
    "    ref_genome.append(sequence[i-12:i+12])\n",
    "\n",
    "ref_genome\n"
   ]
  },
  {
   "cell_type": "code",
   "execution_count": 11,
   "metadata": {},
   "outputs": [
    {
     "data": {
      "text/plain": [
       "'GCGGCTAGGGGC'"
      ]
     },
     "execution_count": 11,
     "metadata": {},
     "output_type": "execute_result"
    }
   ],
   "source": [
    "seq"
   ]
  },
  {
   "cell_type": "markdown",
   "metadata": {},
   "source": [
    "## Pairwise alignment"
   ]
  },
  {
   "cell_type": "markdown",
   "metadata": {},
   "source": [
    "##### Smith Waterman on the sliced reference genome obtained from global positioning"
   ]
  },
  {
   "cell_type": "code",
   "execution_count": 6,
   "metadata": {},
   "outputs": [
    {
     "name": "stdout",
     "output_type": "stream",
     "text": [
      "[[ 0.  0.  0.  0.  0.  0.  0.  0.  0.  0.  0.  0.  0.]\n",
      " [ 0.  0.  1.  0.  0.  1.  0.  0.  0.  0.  0.  0.  1.]\n",
      " [ 0.  0.  0.  0.  0.  0.  2.  0.  0.  0.  0.  0.  0.]\n",
      " [ 0.  1.  0.  1.  1.  0.  0.  1.  1.  1.  1.  1.  0.]\n",
      " [ 0.  0.  0.  0.  0.  0.  0.  1.  0.  0.  0.  0.  0.]\n",
      " [ 0.  1.  0.  1.  1.  0.  0.  0.  2.  1.  1.  1.  0.]\n",
      " [ 0.  1.  0.  1.  2.  0.  0.  0.  1.  3.  2.  2.  0.]\n",
      " [ 0.  0.  0.  0.  0.  1.  1.  0.  0.  1.  2.  1.  1.]\n",
      " [ 0.  0.  0.  0.  0.  0.  2.  0.  0.  0.  0.  1.  0.]\n",
      " [ 0.  1.  0.  1.  1.  0.  0.  1.  1.  1.  1.  1.  0.]\n",
      " [ 0.  0.  0.  0.  0.  0.  0.  1.  0.  0.  0.  0.  0.]\n",
      " [ 0.  1.  0.  1.  1.  0.  0.  0.  2.  1.  1.  1.  0.]\n",
      " [ 0.  1.  0.  1.  2.  0.  0.  0.  1.  3.  2.  2.  0.]\n",
      " [ 0.  1.  0.  1.  2.  1.  0.  0.  1.  2.  4.  3.  1.]\n",
      " [ 0.  0.  2.  0.  0.  3.  1.  0.  0.  0.  2.  3.  4.]\n",
      " [ 0.  1.  0.  3.  1.  1.  2.  0.  1.  1.  1.  3.  2.]\n",
      " [ 0.  1.  0.  1.  4.  2.  0.  1.  1.  2.  2.  2.  2.]\n",
      " [ 0.  0.  2.  0.  2.  5.  3.  1.  0.  0.  1.  1.  3.]\n",
      " [ 0.  0.  0.  1.  0.  3.  6.  4.  2.  0.  0.  0.  1.]\n",
      " [ 0.  1.  0.  1.  2.  1.  4.  5.  5.  3.  1.  1.  0.]\n",
      " [ 0.  1.  0.  1.  2.  1.  2.  3.  6.  6.  4.  2.  0.]\n",
      " [ 0.  1.  0.  1.  2.  1.  0.  1.  4.  7.  7.  5.  3.]\n",
      " [ 0.  1.  0.  1.  2.  1.  0.  0.  2.  5.  8.  8.  6.]\n",
      " [ 0.  1.  0.  1.  2.  1.  0.  0.  1.  3.  6.  9.  7.]\n",
      " [ 0.  0.  2.  0.  0.  3.  1.  0.  0.  1.  4.  7. 10.]] \n",
      "\n",
      "Algined Sequences:\n",
      "GCGGCTGGGGGC\n",
      "GCGGCTAGGGGC\n"
     ]
    }
   ],
   "source": [
    "import numpy as np\n",
    "\n",
    "def smith_waterman(sequence_1,sequence_2):\n",
    "    main_matrix = np.zeros((len(sequence_1)+1,len(sequence_2)+1))\n",
    "    match_checker_matrix = np.zeros((len(sequence_1),len(sequence_2)))\n",
    "\n",
    "    # Defining the scoring matrix\n",
    "    match_reward = 1\n",
    "    mismatch_penalty = -1\n",
    "    gap_penalty = -2\n",
    "\n",
    "    # Initialising the match_checker_matrix which keeps tracks of all the matches\n",
    "    for i in range(len(sequence_1)):\n",
    "        for j in range(len(sequence_2)):\n",
    "            if sequence_1[i] == sequence_2[j]:\n",
    "                match_checker_matrix[i][j]= match_reward\n",
    "            else:\n",
    "                match_checker_matrix[i][j]= mismatch_penalty\n",
    "\n",
    "    #print(match_checker_matrix)\n",
    "\n",
    "    #STEP 1 : INITIALISATION\n",
    "    ## Matrix is already initialised with zeroes so no need of initialistaion\n",
    "\n",
    "    #STEP 2 : MATRIX FILLING\n",
    "    for i in range(1,len(sequence_1)+1):\n",
    "        for j in range(1,len(sequence_2)+1):\n",
    "\n",
    "            # Matrix filling by comparing all three possible cases\n",
    "            # Converted all negative values to zero using the max function\n",
    "            main_matrix[i][j] = max(max(main_matrix[i][j-1]+ gap_penalty, 0), max(main_matrix[i-1][j]+gap_penalty, 0), max(main_matrix[i-1][j-1]+match_checker_matrix[i-1][j-1], 0))\n",
    "\n",
    "    print(main_matrix, '\\n')\n",
    "\n",
    "    # STEP 3 : TRACEBACK\n",
    "\n",
    "    ## For local alignment\n",
    "\n",
    "    def traceback(s1, s2, x, y):\n",
    "\n",
    "        aligned_1 = ''\n",
    "        aligned_2 = ''\n",
    "\n",
    "        while (x > 0 and y > 0 and main_matrix[x][y] != 0):\n",
    "\n",
    "            if (x >0 and y > 0 and main_matrix[x][y] == main_matrix[x-1][y-1]+ match_checker_matrix[x-1][y-1]):\n",
    "\n",
    "                aligned_1 = sequence_1[x-1] + aligned_1\n",
    "                aligned_2 = sequence_2[y-1] + aligned_2\n",
    "\n",
    "                x = x - 1\n",
    "                y = y - 1\n",
    "\n",
    "            elif(x > 0 and main_matrix[x][y] == main_matrix[x-1][y] + gap_penalty):\n",
    "                aligned_1 = sequence_1[x-1] + aligned_1\n",
    "                aligned_2 = \"-\" + aligned_2\n",
    "\n",
    "                x = x -1\n",
    "            else:\n",
    "                aligned_1 = \"-\" + aligned_1\n",
    "                aligned_2 = sequence_2[y-1] + aligned_2\n",
    "\n",
    "                y = y - 1\n",
    "\n",
    "        return aligned_1, aligned_2\n",
    "\n",
    "\n",
    "    max_value = np.max(main_matrix)\n",
    "    max_positions = np.argwhere(main_matrix == max_value)\n",
    "    #print(max_positions)\n",
    "\n",
    "    for max_position in max_positions:\n",
    "        x, y = max_position\n",
    "        aligned_1, aligned_2 = traceback(sequence_1, sequence_2, x,y)\n",
    "        print(f'Algined Sequences:')\n",
    "        #print(x,y)\n",
    "        print(aligned_1)\n",
    "        print(aligned_2)\n",
    "\n",
    "for i in ref_genome:\n",
    "    smith_waterman(i,seq) \n"
   ]
  }
 ],
 "metadata": {
  "kernelspec": {
   "display_name": "Python 3",
   "language": "python",
   "name": "python3"
  },
  "language_info": {
   "codemirror_mode": {
    "name": "ipython",
    "version": 3
   },
   "file_extension": ".py",
   "mimetype": "text/x-python",
   "name": "python",
   "nbconvert_exporter": "python",
   "pygments_lexer": "ipython3",
   "version": "3.11.0"
  }
 },
 "nbformat": 4,
 "nbformat_minor": 2
}
